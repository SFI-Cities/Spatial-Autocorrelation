{
 "cells": [
  {
   "cell_type": "code",
   "execution_count": 1,
   "metadata": {
    "collapsed": false
   },
   "outputs": [],
   "source": [
    "import pysal\n",
    "import numpy as np\n",
    "import pandas as pd"
   ]
  },
  {
   "cell_type": "code",
   "execution_count": 2,
   "metadata": {
    "collapsed": true
   },
   "outputs": [],
   "source": [
    "file = '../shapefiles/denver'\n",
    "shapefile = file + '.shp'\n",
    "dbf = file + '.dbf'"
   ]
  },
  {
   "cell_type": "code",
   "execution_count": 3,
   "metadata": {
    "collapsed": false
   },
   "outputs": [
    {
     "data": {
      "text/plain": [
       "0.27880145912226872"
      ]
     },
     "execution_count": 3,
     "metadata": {},
     "output_type": "execute_result"
    }
   ],
   "source": [
    "thresh = pysal.min_threshold_dist_from_shapefile(shapefile)\n",
    "thresh"
   ]
  },
  {
   "cell_type": "code",
   "execution_count": null,
   "metadata": {
    "collapsed": true
   },
   "outputs": [],
   "source": [
    "wt = pysal.threshold_binaryW_from_shapefile(shapefile,thresh)"
   ]
  },
  {
   "cell_type": "code",
   "execution_count": 4,
   "metadata": {
    "collapsed": true
   },
   "outputs": [],
   "source": [
    "data = pysal.open(dbf)"
   ]
  },
  {
   "cell_type": "code",
   "execution_count": 27,
   "metadata": {
    "collapsed": false
   },
   "outputs": [],
   "source": [
    "def run_morans(col):\n",
    "    y = np.array(data.by_col(col))\n",
    "    mi = pysal.Moran(y, wt,)\n",
    "    return mi"
   ]
  },
  {
   "cell_type": "code",
   "execution_count": 34,
   "metadata": {
    "collapsed": false
   },
   "outputs": [
    {
     "data": {
      "text/plain": [
       "COLUMN                  V002\n",
       "Expected Index    -0.0000511\n",
       "Moran's Index      0.0842069\n",
       "Variance           0.0000003\n",
       "p-value            0.0000000\n",
       "threshold          0.0447000\n",
       "z-score          142.4573704\n",
       "dtype: object"
      ]
     },
     "execution_count": 34,
     "metadata": {},
     "output_type": "execute_result"
    }
   ],
   "source": [
    "col = 'V002'\n",
    "mi = run_morans(col)\n",
    "results = {\n",
    "    'COLUMN': col,\n",
    "    \"Moran's Index\": mi.I,\n",
    "    'Expected Index':mi.EI,\n",
    "    'Variance':mi.VI_norm,\n",
    "    'z-score':mi.z_norm,\n",
    "    'p-value':mi.p_norm,\n",
    "    'threshold':thresh,\n",
    "}\n",
    "pd.options.display.float_format = '{:10.7f}'.format\n",
    "pd.Series(results)"
   ]
  },
  {
   "cell_type": "code",
   "execution_count": null,
   "metadata": {
    "collapsed": true
   },
   "outputs": [],
   "source": [
    "print(\"COLUMN: {}\".format(col))\n",
    "print(\"Moran's Index: {:10.7f}\".format(mi.I))\n",
    "print(\"Expected Index: {:10.7f}\".format(mi.EI))\n",
    "print(\"Variance: {:10.7f}\".format(mi.VI_norm))\n",
    "print(\"z-score: {:10.7f}\".format(mi.z_norm))\n",
    "print(\"p-value: {:10.7f}\".format(mi.p_norm))\n",
    "print(\"threshold: {:10.7f}\".format(thresh))"
   ]
  }
 ],
 "metadata": {
  "kernelspec": {
   "display_name": "Python 3",
   "language": "python",
   "name": "python3"
  },
  "language_info": {
   "codemirror_mode": {
    "name": "ipython",
    "version": 3
   },
   "file_extension": ".py",
   "mimetype": "text/x-python",
   "name": "python",
   "nbconvert_exporter": "python",
   "pygments_lexer": "ipython3",
   "version": "3.4.1"
  }
 },
 "nbformat": 4,
 "nbformat_minor": 0
}
